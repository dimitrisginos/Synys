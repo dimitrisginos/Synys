{
  "metadata": {
    "kernelspec": {
      "name": "python",
      "display_name": "Python (Pyodide)",
      "language": "python"
    },
    "language_info": {
      "codemirror_mode": {
        "name": "python",
        "version": 3
      },
      "file_extension": ".py",
      "mimetype": "text/x-python",
      "name": "python",
      "nbconvert_exporter": "python",
      "pygments_lexer": "ipython3",
      "version": "3.8"
    }
  },
  "nbformat_minor": 4,
  "nbformat": 4,
  "cells": [
    {
      "cell_type": "code",
      "source": "import pandas as pd\n\n# Provided data for this year's teams\ndata_this_year = {\n    \"Ranking\": [1, 2, 3, 4, 5, 6, 7, 8, 9, 10, 11, 12, 13, 14, 15, 16, 17, 18, 19, 20],\n    \"Team Name\": [\n        'Liverpool', 'Arsenal', 'Manchester City', 'Aston Villa', 'Tottenham',\n        'Manchester Utd', 'Brighton', 'Newcastle Utd', 'West Ham', 'Chelsea',\n        'Wolves', 'Fulham', 'Bournemouth', 'Brentford', \"Nott'ham Forest\",\n        'Crystal Palace', 'Luton Town', 'Everton', 'Burnley', 'Sheffield Utd'\n    ],\n    \"Points\": [57, 55, 53, 49, 47, 44, 38, 37, 36, 35, 35, 29, 28, 25, 24, 24, 20, 19, 13, 13],\n    \"Games\" : [25, 25, 24, 25, 25, 25, 25, 25, 25, 25, 25, 25, 24, 24, 25, 24, 24, 24, 25, 25],\n    \"Goals Difference\" :[35, 36, 31, 19, 14, 1, 8, 12, -8, 1, -1, -7, -13, -8, -12, -16, -13, -6, -30, -43],\n    \"xGoals Difference per game\": [0.94, 1.29, 1.02, 0.43, 0.03, -0.11, 0.24, 0.17, -0.51, 0.36, -0.32, -0.48, -0.15, 0.19, -0.20, -0.35, -0.76, 0.12, -0.82, -1.08]\n}\ndf_this_year = pd.DataFrame(data_this_year)\n\ngoal_diff_per_game = df_this_year[\"Goals Difference\"] / df_this_year[\"Games\"]\n",
      "metadata": {
        "trusted": true
      },
      "outputs": [],
      "execution_count": 21
    },
    {
      "cell_type": "code",
      "source": "\n# Provided data for last year's teams\nlast_year_data = {\n    \"Ranking\": [1, 2, 3, 4, 5, 6, 7, 8, 9, 10, 11, 12, 13, 14, 15, 16, 17, 18, 19, 20],\n    \"Team Name\": [\n        \"Manchester City\", \"Arsenal\", \"Manchester Utd\", \"Newcastle Utd\", \"Liverpool\",\n        \"Brighton\", \"Aston Villa\", \"Tottenham\", \"Brentford\", \"Fulham\",\n        \"Crystal Palace\", \"Chelsea\", \"Wolves\", \"West Ham\", \"Bournemouth\",\n        \"Nott'ham Forest\", \"Everton\", \"Leicester City\", \"Leeds United\", \"Southampton\"\n    ],\n    \"Goals For\": [94, 88, 58, 68, 75, 72, 51, 70, 58, 55, 40, 38, 31, 42, 37, 38, 34, 51, 48, 36],\n    \"Goals Against\": [33, 43, 43, 33, 47, 53, 46, 63, 46, 53, 49, 47, 58, 55, 71, 68, 57, 68, 78, 73],\n    \"Goal Difference\": [61, 45, 15, 35, 28, 19, 5, 7, 12, 2, -9, -9, -27, -13, -34, -30, -23, -17, -30, -37],\n    \"Points\": [89, 84, 75, 71, 67, 62, 61, 60, 59, 52, 45, 44, 41, 40, 39, 38, 36, 34, 31, 25],\n    \"xGoals\": [78.6, 71.9, 67.7, 72.0, 72.6, 73.3, 50.2, 57.1, 56.8, 46.2, 39.3, 49.5, 36.8, 49.2, 38.6, 39.3, 45.2, 50.6, 47.4, 37.7],\n    \"xGoals Against\": [32.1, 42.0, 50.4, 39.6, 50.9, 50.2, 52.5, 49.7, 49.9, 63.8, 48.1, 52.5, 59.9, 53.0, 63.9, 64.2, 65.7, 63.4, 67.2, 61.0],\n    \"xGoals Difference\": [46.5, 29.9, 17.3, 32.4, 21.7, 23.1, -2.2, 7.4, 6.8, -17.6, -8.8, -3.0, -23.1, -3.9, -25.3, -24.9, -20.5, -12.8, -19.8, -23.3],\n    \"xGoals Difference per game\": [1.22, 0.79, 0.45, 0.85, 0.57, 0.61, -0.06, 0.20, 0.18, -0.46, -0.23, -0.08, -0.61, -0.10, -0.67, -0.66, -0.54, -0.34, -0.52, -0.61]\n}\n\ndf_last_year = pd.DataFrame(last_year_data)\n\n# Calculate correlations\ncorrelation_xgoals_difference_last_year = df_last_year[\"Points\"].corr(df_last_year[\"xGoals Difference\"])\ncorrelation_goal_difference_last_year = df_last_year[\"Points\"].corr(df_last_year[\"Goal Difference\"])",
      "metadata": {
        "trusted": true
      },
      "outputs": [],
      "execution_count": 22
    },
    {
      "cell_type": "code",
      "source": "# Data from 2 years ago\ndata_two_years_ago = {\n    \"Ranking\": list(range(1, 21)),\n    \"Team Name\": [\n        \"Manchester City\", \"Liverpool\", \"Chelsea\", \"Tottenham\", \"Arsenal\",\n        \"Manchester Utd\", \"West Ham\", \"Leicester City\", \"Brighton\", \"Wolves\",\n        \"Newcastle Utd\", \"Crystal Palace\", \"Brentford\", \"Aston Villa\", \"Southampton\",\n        \"Everton\", \"Leeds United\", \"Burnley\", \"Watford\", \"Norwich City\"\n    ],\n    \"Goals For\": [99, 94, 76, 69, 61, 57, 60, 62, 42, 38, 44, 50, 48, 52, 43, 43, 42, 34, 34, 23],\n    \"Goals Against\": [26, 26, 33, 40, 48, 57, 51, 59, 44, 43, 62, 46, 56, 54, 67, 66, 79, 53, 77, 84],\n    \"Goal Difference\": [73, 68, 43, 29, 13, 0, 9, 3, -2, -5, -18, 4, -8, -2, -24, -23, -37, -19, -43, -61],\n    \"Points\": [93, 92, 74, 71, 69, 58, 56, 52, 51, 51, 49, 48, 46, 45, 40, 39, 38, 35, 23, 22],\n    \"xGoals\": [88.7, 88.7, 63.4, 61.2, 60.5, 55.8, 51.4, 47.8, 46.2, 37.5, 38.1, 46.4, 45.8, 44.0, 44.8, 41.2, 44.4, 39.7, 40.0, 32.3],\n    \"xGoals Against\": [24.6, 33.8, 33.2, 39.3, 45.7, 53.0, 53.5, 59.3, 42.9, 56.9, 57.1, 40.7, 48.5, 49.0, 60.0, 55.4, 67.8, 57.1, 64.5, 75.5],\n    \"xGoals Difference\": [64.0, 54.9, 30.1, 21.9, 14.9, 2.8, -2.1, -11.5, 3.3, -19.4, -19.0, 5.7, -2.7, -4.9, -15.2, -14.2, -23.5, -17.4, -24.5, -43.2],\n    \"xGoals Difference per game\": [1.68, 1.45, 0.79, 0.58, 0.39, 0.07, -0.06, -0.30, 0.09, -0.51, -0.50, 0.15, -0.07, -0.13, -0.40, -0.37, -0.62, -0.46, -0.64, -1.14]\n}\n\ndf_two_years_ago = pd.DataFrame(data_two_years_ago)\n\n# Calculate correlations\ncorrelation_xgoals_difference_two_years_ago = df_two_years_ago[\"Points\"].corr(df_two_years_ago[\"xGoals Difference\"])\ncorrelation_goal_difference_two_years_ago = df_two_years_ago[\"Points\"].corr(df_two_years_ago[\"Goal Difference\"])",
      "metadata": {
        "trusted": true
      },
      "outputs": [],
      "execution_count": 23
    },
    {
      "cell_type": "code",
      "source": "# Given correlations\ncorrelation_xgoals_difference_two_years_ago = df_two_years_ago[\"Points\"].corr(df_two_years_ago[\"xGoals Difference\"])\ncorrelation_xgoals_difference_last_year = df_last_year[\"Points\"].corr(df_last_year[\"xGoals Difference\"])\n\n# Calculate the average correlation\naverage_correlation_xgoals_difference = (correlation_xgoals_difference_two_years_ago + correlation_xgoals_difference_last_year) / 2\n\n# Display the average correlation\nprint(\"Average Correlation (xGoals Difference) :\", average_correlation_xgoals_difference)\n\n",
      "metadata": {
        "trusted": true
      },
      "outputs": [
        {
          "name": "stdout",
          "text": "Average Correlation (xGoals Difference) : 0.9331103791030265\n",
          "output_type": "stream"
        }
      ],
      "execution_count": 24
    },
    {
      "cell_type": "code",
      "source": "# Given correlations\ncorrelation_goal_diff_two_years_ago = df_two_years_ago[\"Points\"].corr(df_two_years_ago[\"Goal Difference\"])\ncorrelation_goal_diff_last_year = df_last_year[\"Points\"].corr(df_last_year[\"Goal Difference\"])\n\n# Calculate the average correlation\naverage_correlation_goal_difference = (correlation_goal_difference_two_years_ago + correlation_goal_difference_last_year) / 2\n\n# Display the average correlation\nprint(\"Average Correlation (Goal Difference) :\", average_correlation_goal_difference)\n",
      "metadata": {
        "trusted": true
      },
      "outputs": [
        {
          "name": "stdout",
          "text": "Average Correlation (Goal Difference) : 0.9660002173176707\n",
          "output_type": "stream"
        }
      ],
      "execution_count": 25
    },
    {
      "cell_type": "code",
      "source": "# Calculate the absolute values\nabs_correlation_xgoals_difference = abs(average_correlation_xgoals_difference)\nabs_correlation_goal_difference = abs(average_correlation_goal_difference)\n\n# Sum of absolute values\nsum_of_abs_correlations = abs_correlation_xgoals_difference + abs_correlation_goal_difference\n\n# Calculate weights\nweight_xgoals_difference = abs_correlation_xgoals_difference / sum_of_abs_correlations\nweight_goal_difference = abs_correlation_goal_difference / sum_of_abs_correlations\n\n# Display the weights\nprint(\"Weight for xGoals Difference:\", weight_xgoals_difference)\nprint(\"Weight for Goal Difference:\", weight_goal_difference)\n",
      "metadata": {
        "trusted": true
      },
      "outputs": [
        {
          "name": "stdout",
          "text": "Weight for xGoals Difference: 0.49134072594912787\nWeight for Goal Difference: 0.5086592740508722\n",
          "output_type": "stream"
        }
      ],
      "execution_count": 26
    },
    {
      "cell_type": "code",
      "source": "# Calculate the overall index for each team\ndf_this_year[\"Overall Index\"] = (\n    weight_xgoals_difference * df_this_year[\"xGoals Difference per game\"] +\n    weight_goal_difference * goal_diff_per_game\n)\n\n# Sort the teams based on the overall index in descending order\ndf_this_year = df_this_year.sort_values(by=\"Overall Index\", ascending=False).reset_index(drop=True)\n\n# Display the ranking table with overall index\nprint(df_this_year[[\"Team Name\", \"Overall Index\"]])\n",
      "metadata": {
        "trusted": true
      },
      "outputs": [
        {
          "name": "stdout",
          "text": "          Team Name  Overall Index\n0           Arsenal       1.366299\n1         Liverpool       1.173983\n2   Manchester City       1.158186\n3       Aston Villa       0.597858\n4     Newcastle Utd       0.327684\n5         Tottenham       0.299589\n6          Brighton       0.280693\n7           Chelsea       0.197229\n8    Manchester Utd      -0.033701\n9           Everton      -0.068204\n10        Brentford      -0.076198\n11           Wolves      -0.177575\n12  Nott'ham Forest      -0.342425\n13      Bournemouth      -0.349225\n14           Fulham      -0.378268\n15         West Ham      -0.413355\n16   Crystal Palace      -0.511075\n17       Luton Town      -0.648943\n18          Burnley      -1.013291\n19    Sheffield Utd      -1.405542\n",
          "output_type": "stream"
        }
      ],
      "execution_count": 27
    },
    {
      "cell_type": "code",
      "source": "# Assuming df_ranking is the DataFrame with the teams sorted by overall index\n\n# Number of remaining games\nremaining_games = 38 - df_this_year[\"Games\"]\n\n# Calculate projected points for each team based on their overall index\ndf_this_year[\"Projected Points\"] = df_this_year[\"Overall Index\"]\n\n# Normalize projected points to ensure they are within the valid range\nmax_points = remaining_games*3\nmin_points = 0\ndf_this_year[\"Projected Points\"] = (\n    (df_this_year[\"Projected Points\"] - df_this_year[\"Projected Points\"].min()) /\n    (df_this_year[\"Projected Points\"].max() - df_this_year[\"Projected Points\"].min())\n) * (max_points - min_points) + min_points\n\ndraws = 50\ntotal_games = 247\nremaining_total_games = 380 - total_games\ndraw_percentage = draws/total_games\nprojected_draws = draw_percentage*remaining_total_games\nprojected_draw_points = projected_draws*2\nprojected_nodraws = remaining_total_games - projected_draws\nprojected_nodraw_points = projected_nodraws*3\nremaining_total_points = projected_draw_points + projected_nodraw_points\n\ncurrent_sum = df_this_year[\"Projected Points\"].sum()\nif current_sum != remaining_total_points:\n    # Distribute the difference proportionally to each team\n    df_this_year[\"Projected Points\"] += ((remaining_total_points - current_sum) / current_sum) * df_this_year[\"Projected Points\"]\n\n# Round down the projected points to the nearest integer again\ndf_this_year[\"Projected Points\"] = df_this_year[\"Projected Points\"].apply(int)\n\n#Sort the teams based on the projected points\ndf_this_year = df_this_year.sort_values(by=\"Projected Points\", ascending=False).reset_index(drop=True)\n\nprint(df_this_year[[\"Team Name\", \"Projected Points\"]])",
      "metadata": {
        "trusted": true
      },
      "outputs": [
        {
          "name": "stdout",
          "text": "          Team Name  Projected Points\n0           Arsenal                35\n1   Manchester City                35\n2         Liverpool                33\n3       Aston Villa                25\n4     Newcastle Utd                22\n5         Tottenham                22\n6          Brighton                21\n7           Chelsea                20\n8           Everton                18\n9         Brentford                18\n10   Manchester Utd                17\n11           Wolves                15\n12      Bournemouth                14\n13  Nott'ham Forest                13\n14           Fulham                13\n15         West Ham                12\n16   Crystal Palace                12\n17       Luton Town                10\n18          Burnley                 5\n19    Sheffield Utd                 0\n",
          "output_type": "stream"
        }
      ],
      "execution_count": 28
    },
    {
      "cell_type": "code",
      "source": "# Add projected points to the existing points \ndf_this_year[\"Total Points\"] = df_this_year[\"Points\"] + df_this_year[\"Projected Points\"]\n\n# Sort the teams based on the total points \ndf_this_year = df_this_year.sort_values(by=\"Total Points\", ascending=False).reset_index(drop=True)\n\n# Assign the final ranking order to the list \"Ranking\"\nRanking = list(df_ranking.index + 1)\n\n# Add the final ranking as a new column\ndf_this_year[\"Final Ranking\"] = list(df_this_year.index + 1)\n\n# Display the DataFrame with total points and final ranking\nprint(df_this_year[[\"Final Ranking\",\"Team Name\", \"Total Points\"]])\n",
      "metadata": {
        "trusted": true
      },
      "outputs": [
        {
          "name": "stdout",
          "text": "    Final Ranking        Team Name  Total Points\n0               1          Arsenal            90\n1               2        Liverpool            90\n2               3  Manchester City            88\n3               4      Aston Villa            74\n4               5        Tottenham            69\n5               6   Manchester Utd            61\n6               7         Brighton            59\n7               8    Newcastle Utd            59\n8               9          Chelsea            55\n9              10           Wolves            50\n10             11         West Ham            48\n11             12        Brentford            43\n12             13      Bournemouth            42\n13             14           Fulham            42\n14             15          Everton            37\n15             16  Nott'ham Forest            37\n16             17   Crystal Palace            36\n17             18       Luton Town            30\n18             19          Burnley            18\n19             20    Sheffield Utd            13\n",
          "output_type": "stream"
        }
      ],
      "execution_count": 29
    },
    {
      "cell_type": "code",
      "source": "",
      "metadata": {
        "trusted": true
      },
      "outputs": [],
      "execution_count": null
    }
  ]
}